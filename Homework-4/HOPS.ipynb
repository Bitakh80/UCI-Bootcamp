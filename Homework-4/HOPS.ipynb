{
 "cells": [
  {
   "cell_type": "markdown",
   "metadata": {},
   "source": [
    "### Heroes Of Pymoli Data Analysis\n",
    "* Of the 1163 active players, the vast majority are male (84%). There also exists, a smaller, but notable proportion of female players (14%).\n",
    "\n",
    "* Our peak age demographic falls between 20-24 (44.8%) with secondary groups falling between 15-19 (18.60%) and 25-29 (13.4%).  \n",
    "-----"
   ]
  },
  {
   "cell_type": "markdown",
   "metadata": {},
   "source": [
    "### Note\n",
    "* Instructions have been included for each segment. You do not have to follow them exactly, but they are included to help you think through the steps."
   ]
  },
  {
   "cell_type": "code",
   "execution_count": 3,
   "metadata": {},
   "outputs": [
    {
     "data": {
      "text/html": [
       "<div>\n",
       "<style scoped>\n",
       "    .dataframe tbody tr th:only-of-type {\n",
       "        vertical-align: middle;\n",
       "    }\n",
       "\n",
       "    .dataframe tbody tr th {\n",
       "        vertical-align: top;\n",
       "    }\n",
       "\n",
       "    .dataframe thead th {\n",
       "        text-align: right;\n",
       "    }\n",
       "</style>\n",
       "<table border=\"1\" class=\"dataframe\">\n",
       "  <thead>\n",
       "    <tr style=\"text-align: right;\">\n",
       "      <th></th>\n",
       "      <th>Purchase ID</th>\n",
       "      <th>SN</th>\n",
       "      <th>Age</th>\n",
       "      <th>Gender</th>\n",
       "      <th>Item ID</th>\n",
       "      <th>Item Name</th>\n",
       "      <th>Price</th>\n",
       "    </tr>\n",
       "  </thead>\n",
       "  <tbody>\n",
       "    <tr>\n",
       "      <th>0</th>\n",
       "      <td>0</td>\n",
       "      <td>Lisim78</td>\n",
       "      <td>20</td>\n",
       "      <td>Male</td>\n",
       "      <td>108</td>\n",
       "      <td>Extraction, Quickblade Of Trembling Hands</td>\n",
       "      <td>3.53</td>\n",
       "    </tr>\n",
       "    <tr>\n",
       "      <th>1</th>\n",
       "      <td>1</td>\n",
       "      <td>Lisovynya38</td>\n",
       "      <td>40</td>\n",
       "      <td>Male</td>\n",
       "      <td>143</td>\n",
       "      <td>Frenzied Scimitar</td>\n",
       "      <td>1.56</td>\n",
       "    </tr>\n",
       "    <tr>\n",
       "      <th>2</th>\n",
       "      <td>2</td>\n",
       "      <td>Ithergue48</td>\n",
       "      <td>24</td>\n",
       "      <td>Male</td>\n",
       "      <td>92</td>\n",
       "      <td>Final Critic</td>\n",
       "      <td>4.88</td>\n",
       "    </tr>\n",
       "    <tr>\n",
       "      <th>3</th>\n",
       "      <td>3</td>\n",
       "      <td>Chamassasya86</td>\n",
       "      <td>24</td>\n",
       "      <td>Male</td>\n",
       "      <td>100</td>\n",
       "      <td>Blindscythe</td>\n",
       "      <td>3.27</td>\n",
       "    </tr>\n",
       "    <tr>\n",
       "      <th>4</th>\n",
       "      <td>4</td>\n",
       "      <td>Iskosia90</td>\n",
       "      <td>23</td>\n",
       "      <td>Male</td>\n",
       "      <td>131</td>\n",
       "      <td>Fury</td>\n",
       "      <td>1.44</td>\n",
       "    </tr>\n",
       "  </tbody>\n",
       "</table>\n",
       "</div>"
      ],
      "text/plain": [
       "   Purchase ID             SN  Age Gender  Item ID  \\\n",
       "0            0        Lisim78   20   Male      108   \n",
       "1            1    Lisovynya38   40   Male      143   \n",
       "2            2     Ithergue48   24   Male       92   \n",
       "3            3  Chamassasya86   24   Male      100   \n",
       "4            4      Iskosia90   23   Male      131   \n",
       "\n",
       "                                   Item Name  Price  \n",
       "0  Extraction, Quickblade Of Trembling Hands   3.53  \n",
       "1                          Frenzied Scimitar   1.56  \n",
       "2                               Final Critic   4.88  \n",
       "3                                Blindscythe   3.27  \n",
       "4                                       Fury   1.44  "
      ]
     },
     "execution_count": 3,
     "metadata": {},
     "output_type": "execute_result"
    }
   ],
   "source": [
    "# Dependencies and Setup\n",
    "import pandas as pd\n",
    "import numpy as np\n",
    "\n",
    "# File to Load (Remember to Change These)\n",
    "file_HOPS = \"Instructions/HeroesOfPymoli/Resources/purchase_data.csv\"\n",
    "\n",
    "# Read Purchasing File and store into Pandas data frame\n",
    "purchase_data = pd.read_csv(file_HOPS)\n",
    "purchase_data.head()"
   ]
  },
  {
   "cell_type": "markdown",
   "metadata": {},
   "source": [
    "## Player Count"
   ]
  },
  {
   "cell_type": "markdown",
   "metadata": {},
   "source": [
    "* Display the total number of players\n"
   ]
  },
  {
   "cell_type": "code",
   "execution_count": 4,
   "metadata": {},
   "outputs": [
    {
     "data": {
      "text/html": [
       "<div>\n",
       "<style scoped>\n",
       "    .dataframe tbody tr th:only-of-type {\n",
       "        vertical-align: middle;\n",
       "    }\n",
       "\n",
       "    .dataframe tbody tr th {\n",
       "        vertical-align: top;\n",
       "    }\n",
       "\n",
       "    .dataframe thead th {\n",
       "        text-align: right;\n",
       "    }\n",
       "</style>\n",
       "<table border=\"1\" class=\"dataframe\">\n",
       "  <thead>\n",
       "    <tr style=\"text-align: right;\">\n",
       "      <th></th>\n",
       "      <th>Total Players</th>\n",
       "    </tr>\n",
       "  </thead>\n",
       "  <tbody>\n",
       "    <tr>\n",
       "      <th>0</th>\n",
       "      <td>576</td>\n",
       "    </tr>\n",
       "  </tbody>\n",
       "</table>\n",
       "</div>"
      ],
      "text/plain": [
       "   Total Players\n",
       "0            576"
      ]
     },
     "execution_count": 4,
     "metadata": {},
     "output_type": "execute_result"
    }
   ],
   "source": [
    "Total_Players = len(purchase_data[\"SN\"].value_counts())\n",
    "Players_Count = pd.DataFrame({\"Total Players\":[Total_Players]})\n",
    "Players_Count"
   ]
  },
  {
   "cell_type": "markdown",
   "metadata": {},
   "source": [
    "## Purchasing Analysis (Total)"
   ]
  },
  {
   "cell_type": "markdown",
   "metadata": {},
   "source": [
    "* Run basic calculations to obtain number of unique items, average price, etc.\n",
    "\n",
    "\n",
    "* Create a summary data frame to hold the results\n",
    "\n",
    "\n",
    "* Optional: give the displayed data cleaner formatting\n",
    "\n",
    "\n",
    "* Display the summary data frame\n"
   ]
  },
  {
   "cell_type": "code",
   "execution_count": 5,
   "metadata": {
    "scrolled": true
   },
   "outputs": [
    {
     "ename": "NameError",
     "evalue": "name 'number_of_unique' is not defined",
     "output_type": "error",
     "traceback": [
      "\u001b[1;31m---------------------------------------------------------------------------\u001b[0m",
      "\u001b[1;31mNameError\u001b[0m                                 Traceback (most recent call last)",
      "\u001b[1;32m<ipython-input-5-ae677599386d>\u001b[0m in \u001b[0;36m<module>\u001b[1;34m\u001b[0m\n\u001b[0;32m      2\u001b[0m \u001b[0mAverage_Price\u001b[0m \u001b[1;33m=\u001b[0m \u001b[1;33m(\u001b[0m\u001b[0mpurchase_data\u001b[0m\u001b[1;33m[\u001b[0m\u001b[1;34m\"Price\"\u001b[0m\u001b[1;33m]\u001b[0m\u001b[1;33m)\u001b[0m\u001b[1;33m.\u001b[0m\u001b[0mmean\u001b[0m\u001b[1;33m(\u001b[0m\u001b[1;33m)\u001b[0m\u001b[1;33m\u001b[0m\u001b[1;33m\u001b[0m\u001b[0m\n\u001b[0;32m      3\u001b[0m \u001b[1;33m\u001b[0m\u001b[0m\n\u001b[1;32m----> 4\u001b[1;33m \u001b[0msummary_df\u001b[0m \u001b[1;33m=\u001b[0m \u001b[0mpd\u001b[0m\u001b[1;33m.\u001b[0m\u001b[0mDataFrame\u001b[0m\u001b[1;33m(\u001b[0m\u001b[1;33m{\u001b[0m\u001b[1;34m\"Number Of Unique\"\u001b[0m\u001b[1;33m:\u001b[0m\u001b[1;33m[\u001b[0m\u001b[0mnumber_of_unique\u001b[0m\u001b[1;33m]\u001b[0m\u001b[1;33m,\u001b[0m\u001b[1;34m\"Average Price\"\u001b[0m\u001b[1;33m:\u001b[0m\u001b[1;33m[\u001b[0m\u001b[0maverage_price\u001b[0m\u001b[1;33m]\u001b[0m\u001b[1;33m}\u001b[0m\u001b[1;33m)\u001b[0m\u001b[1;33m\u001b[0m\u001b[1;33m\u001b[0m\u001b[0m\n\u001b[0m\u001b[0;32m      5\u001b[0m \u001b[0msummary_df\u001b[0m\u001b[1;33m.\u001b[0m\u001b[0mstyle\u001b[0m\u001b[1;33m.\u001b[0m\u001b[0mformat\u001b[0m\u001b[1;33m(\u001b[0m\u001b[1;33m{\u001b[0m\u001b[1;34m'Average Price'\u001b[0m\u001b[1;33m:\u001b[0m\u001b[1;34m\"${:,.4f}\"\u001b[0m\u001b[1;33m}\u001b[0m\u001b[1;33m)\u001b[0m\u001b[1;33m\u001b[0m\u001b[1;33m\u001b[0m\u001b[0m\n\u001b[0;32m      6\u001b[0m \u001b[1;33m\u001b[0m\u001b[0m\n",
      "\u001b[1;31mNameError\u001b[0m: name 'number_of_unique' is not defined"
     ]
    }
   ],
   "source": [
    "Number_Of_Unique = len((purchase_data[\"Item ID\"]).unique())\n",
    "Average_Price = (purchase_data[\"Price\"]).mean()\n",
    "\n",
    "summary_df = pd.DataFrame({\"Number Of Unique\":[number_of_unique],\"Average Price\":[average_price]})\n",
    "summary_df.style.format({'Average Price':\"${:,.4f}\"})\n",
    "\n",
    "\n"
   ]
  },
  {
   "cell_type": "markdown",
   "metadata": {},
   "source": [
    "## Gender Demographics"
   ]
  },
  {
   "cell_type": "markdown",
   "metadata": {},
   "source": [
    "* Percentage and Count of Male Players\n",
    "\n",
    "\n",
    "* Percentage and Count of Female Players\n",
    "\n",
    "\n",
    "* Percentage and Count of Other / Non-Disclosed\n",
    "\n",
    "\n"
   ]
  },
  {
   "cell_type": "code",
   "execution_count": 6,
   "metadata": {},
   "outputs": [
    {
     "data": {
      "text/html": [
       "<style  type=\"text/css\" >\n",
       "</style>  \n",
       "<table id=\"T_b4a8d846_4aaf_11e9_9652_f43909e1f9bb\" > \n",
       "<thead>    <tr> \n",
       "        <th class=\"blank level0\" ></th> \n",
       "        <th class=\"col_heading level0 col0\" >Percentage Of Players</th> \n",
       "        <th class=\"col_heading level0 col1\" >Total Count</th> \n",
       "    </tr></thead> \n",
       "<tbody>    <tr> \n",
       "        <th id=\"T_b4a8d846_4aaf_11e9_9652_f43909e1f9bblevel0_row0\" class=\"row_heading level0 row0\" >Male</th> \n",
       "        <td id=\"T_b4a8d846_4aaf_11e9_9652_f43909e1f9bbrow0_col0\" class=\"data row0 col0\" >84.0278</td> \n",
       "        <td id=\"T_b4a8d846_4aaf_11e9_9652_f43909e1f9bbrow0_col1\" class=\"data row0 col1\" >484</td> \n",
       "    </tr>    <tr> \n",
       "        <th id=\"T_b4a8d846_4aaf_11e9_9652_f43909e1f9bblevel0_row1\" class=\"row_heading level0 row1\" >Female</th> \n",
       "        <td id=\"T_b4a8d846_4aaf_11e9_9652_f43909e1f9bbrow1_col0\" class=\"data row1 col0\" >14.0625</td> \n",
       "        <td id=\"T_b4a8d846_4aaf_11e9_9652_f43909e1f9bbrow1_col1\" class=\"data row1 col1\" >81</td> \n",
       "    </tr>    <tr> \n",
       "        <th id=\"T_b4a8d846_4aaf_11e9_9652_f43909e1f9bblevel0_row2\" class=\"row_heading level0 row2\" >Other / Non-Disclosed</th> \n",
       "        <td id=\"T_b4a8d846_4aaf_11e9_9652_f43909e1f9bbrow2_col0\" class=\"data row2 col0\" >1.9097</td> \n",
       "        <td id=\"T_b4a8d846_4aaf_11e9_9652_f43909e1f9bbrow2_col1\" class=\"data row2 col1\" >11</td> \n",
       "    </tr></tbody> \n",
       "</table> "
      ],
      "text/plain": [
       "<pandas.io.formats.style.Styler at 0x1aa5eded4e0>"
      ]
     },
     "execution_count": 6,
     "metadata": {},
     "output_type": "execute_result"
    }
   ],
   "source": [
    "Gender_Stats = purchase_data.groupby(\"Gender\")\n",
    "\n",
    "Total_Count_Gender = Gender_Stats.nunique()[\"SN\"]\n",
    "\n",
    "Percentage_Of_Players = Total_Count_Gender / Total_Players *100\n",
    "\n",
    "Gender_Demographics = pd.DataFrame({\"Percentage Of Players\": Percentage_Of_Players, \"Total Count\": Total_Count_Gender})\n",
    "\n",
    "Gender_Demographics.index.name = None\n",
    "\n",
    "Gender_Demographics.sort_values([\"Total Count\"], ascending = False).style.format({\"Percentage Of Players\":\"{:.4f}\"})\n",
    "\n",
    "\n"
   ]
  },
  {
   "cell_type": "markdown",
   "metadata": {},
   "source": [
    "\n",
    "## Purchasing Analysis (Gender)"
   ]
  },
  {
   "cell_type": "markdown",
   "metadata": {},
   "source": [
    "* Run basic calculations to obtain purchase count, avg. purchase price, avg. purchase total per person etc. by gender\n",
    "\n",
    "\n",
    "\n",
    "\n",
    "* Create a summary data frame to hold the results\n",
    "\n",
    "\n",
    "* Optional: give the displayed data cleaner formatting\n",
    "\n",
    "\n",
    "* Display the summary data frame"
   ]
  },
  {
   "cell_type": "code",
   "execution_count": 7,
   "metadata": {},
   "outputs": [
    {
     "data": {
      "text/html": [
       "<style  type=\"text/css\" >\n",
       "</style>  \n",
       "<table id=\"T_b7026182_4aaf_11e9_a111_f43909e1f9bb\" > \n",
       "<thead>    <tr> \n",
       "        <th class=\"blank level0\" ></th> \n",
       "        <th class=\"col_heading level0 col0\" >Purchase Count</th> \n",
       "        <th class=\"col_heading level0 col1\" >Average Purchase Price</th> \n",
       "        <th class=\"col_heading level0 col2\" >Average Purchase Value</th> \n",
       "        <th class=\"col_heading level0 col3\" >Avg Purchase Total per Person</th> \n",
       "    </tr>    <tr> \n",
       "        <th class=\"index_name level0\" >Gender</th> \n",
       "        <th class=\"blank\" ></th> \n",
       "        <th class=\"blank\" ></th> \n",
       "        <th class=\"blank\" ></th> \n",
       "        <th class=\"blank\" ></th> \n",
       "    </tr></thead> \n",
       "<tbody>    <tr> \n",
       "        <th id=\"T_b7026182_4aaf_11e9_a111_f43909e1f9bblevel0_row0\" class=\"row_heading level0 row0\" >Female</th> \n",
       "        <td id=\"T_b7026182_4aaf_11e9_a111_f43909e1f9bbrow0_col0\" class=\"data row0 col0\" >113</td> \n",
       "        <td id=\"T_b7026182_4aaf_11e9_a111_f43909e1f9bbrow0_col1\" class=\"data row0 col1\" >$3.2030</td> \n",
       "        <td id=\"T_b7026182_4aaf_11e9_a111_f43909e1f9bbrow0_col2\" class=\"data row0 col2\" >$361.9400</td> \n",
       "        <td id=\"T_b7026182_4aaf_11e9_a111_f43909e1f9bbrow0_col3\" class=\"data row0 col3\" >$4.4684</td> \n",
       "    </tr>    <tr> \n",
       "        <th id=\"T_b7026182_4aaf_11e9_a111_f43909e1f9bblevel0_row1\" class=\"row_heading level0 row1\" >Male</th> \n",
       "        <td id=\"T_b7026182_4aaf_11e9_a111_f43909e1f9bbrow1_col0\" class=\"data row1 col0\" >652</td> \n",
       "        <td id=\"T_b7026182_4aaf_11e9_a111_f43909e1f9bbrow1_col1\" class=\"data row1 col1\" >$3.0179</td> \n",
       "        <td id=\"T_b7026182_4aaf_11e9_a111_f43909e1f9bbrow1_col2\" class=\"data row1 col2\" >$1,967.6400</td> \n",
       "        <td id=\"T_b7026182_4aaf_11e9_a111_f43909e1f9bbrow1_col3\" class=\"data row1 col3\" >$4.0654</td> \n",
       "    </tr>    <tr> \n",
       "        <th id=\"T_b7026182_4aaf_11e9_a111_f43909e1f9bblevel0_row2\" class=\"row_heading level0 row2\" >Other / Non-Disclosed</th> \n",
       "        <td id=\"T_b7026182_4aaf_11e9_a111_f43909e1f9bbrow2_col0\" class=\"data row2 col0\" >15</td> \n",
       "        <td id=\"T_b7026182_4aaf_11e9_a111_f43909e1f9bbrow2_col1\" class=\"data row2 col1\" >$3.3460</td> \n",
       "        <td id=\"T_b7026182_4aaf_11e9_a111_f43909e1f9bbrow2_col2\" class=\"data row2 col2\" >$50.1900</td> \n",
       "        <td id=\"T_b7026182_4aaf_11e9_a111_f43909e1f9bbrow2_col3\" class=\"data row2 col3\" >$4.5627</td> \n",
       "    </tr></tbody> \n",
       "</table> "
      ],
      "text/plain": [
       "<pandas.io.formats.style.Styler at 0x1aa5eddee80>"
      ]
     },
     "execution_count": 7,
     "metadata": {},
     "output_type": "execute_result"
    }
   ],
   "source": [
    "Purchase_Count = Gender_Stats[\"Purchase ID\"].count()\n",
    "\n",
    "Avg_Purchase_Price = Gender_Stats[\"Price\"].mean()\n",
    "\n",
    "Avg_Purchase_Total = Gender_Stats[\"Price\"].sum()\n",
    "\n",
    "Avg_Purchase_Per_Person = Avg_Purchase_Total/Total_Count_Gender\n",
    " \n",
    "Gender_Demographics = pd.DataFrame({\"Purchase Count\": Purchase_Count, \n",
    "                                    \"Average Purchase Price\": Avg_Purchase_Price,\n",
    "                                    \"Average Purchase Value\":Avg_Purchase_Total,\n",
    "                                    \"Avg Purchase Total per Person\": Avg_Purchase_Per_Person})\n",
    "\n",
    "Gender_Demographics.index.name = \"Gender\"\n",
    "\n",
    "Gender_Demographics.style.format({\"Average Purchase Value\":\"${:,.4f}\",\n",
    "                                  \"Average Purchase Price\":\"${:,.4f}\",\n",
    "                                  \"Avg Purchase Total per Person\":\"${:,.4f}\"})\n"
   ]
  },
  {
   "cell_type": "markdown",
   "metadata": {},
   "source": [
    "## Age Demographics"
   ]
  },
  {
   "cell_type": "markdown",
   "metadata": {},
   "source": [
    "* Establish bins for ages\n",
    "\n",
    "\n",
    "* Categorize the existing players using the age bins. Hint: use pd.cut()\n",
    "\n",
    "\n",
    "* Calculate the numbers and percentages by age group\n",
    "\n",
    "\n",
    "* Create a summary data frame to hold the results\n",
    "\n",
    "\n",
    "* Optional: round the percentage column to two decimal points\n",
    "\n",
    "\n",
    "* Display Age Demographics Table\n"
   ]
  },
  {
   "cell_type": "code",
   "execution_count": 8,
   "metadata": {},
   "outputs": [
    {
     "ename": "TypeError",
     "evalue": "cut() got an unexpected keyword argument 'Labels'",
     "output_type": "error",
     "traceback": [
      "\u001b[1;31m---------------------------------------------------------------------------\u001b[0m",
      "\u001b[1;31mTypeError\u001b[0m                                 Traceback (most recent call last)",
      "\u001b[1;32m<ipython-input-8-2170602965bf>\u001b[0m in \u001b[0;36m<module>\u001b[1;34m\u001b[0m\n\u001b[0;32m      3\u001b[0m \u001b[0mGroup_Names\u001b[0m \u001b[1;33m=\u001b[0m \u001b[1;33m[\u001b[0m\u001b[1;34m\"<10\"\u001b[0m\u001b[1;33m,\u001b[0m \u001b[1;34m\"10-15\"\u001b[0m\u001b[1;33m,\u001b[0m \u001b[1;34m\"16-20\"\u001b[0m\u001b[1;33m,\u001b[0m \u001b[1;34m\"21-25\"\u001b[0m\u001b[1;33m,\u001b[0m \u001b[1;34m\"26-30\"\u001b[0m\u001b[1;33m,\u001b[0m \u001b[1;34m\"31-35\"\u001b[0m\u001b[1;33m,\u001b[0m \u001b[1;34m\"36-40\"\u001b[0m\u001b[1;33m,\u001b[0m \u001b[1;34m\"41+\"\u001b[0m\u001b[1;33m]\u001b[0m\u001b[1;33m\u001b[0m\u001b[1;33m\u001b[0m\u001b[0m\n\u001b[0;32m      4\u001b[0m \u001b[1;33m\u001b[0m\u001b[0m\n\u001b[1;32m----> 5\u001b[1;33m \u001b[0mpurchase_data\u001b[0m\u001b[1;33m[\u001b[0m\u001b[1;34m\"Age Group\"\u001b[0m\u001b[1;33m]\u001b[0m \u001b[1;33m=\u001b[0m \u001b[0mpd\u001b[0m\u001b[1;33m.\u001b[0m\u001b[0mcut\u001b[0m\u001b[1;33m(\u001b[0m\u001b[0mpurchase_data\u001b[0m\u001b[1;33m[\u001b[0m\u001b[1;34m\"Age\"\u001b[0m\u001b[1;33m]\u001b[0m\u001b[1;33m,\u001b[0m\u001b[0mAge_Bins\u001b[0m\u001b[1;33m,\u001b[0m \u001b[0mLabels\u001b[0m\u001b[1;33m=\u001b[0m\u001b[0mGroup_Names\u001b[0m\u001b[1;33m)\u001b[0m\u001b[1;33m\u001b[0m\u001b[1;33m\u001b[0m\u001b[0m\n\u001b[0m\u001b[0;32m      6\u001b[0m \u001b[0mpurchase_data\u001b[0m\u001b[1;33m\u001b[0m\u001b[1;33m\u001b[0m\u001b[0m\n\u001b[0;32m      7\u001b[0m \u001b[1;33m\u001b[0m\u001b[0m\n",
      "\u001b[1;31mTypeError\u001b[0m: cut() got an unexpected keyword argument 'Labels'"
     ]
    }
   ],
   "source": [
    "\n",
    "Age_Bins = [0, 9.99, 14.99, 19.99, 24.99, 29.99, 34.99, 39.99, 99999]\n",
    "Group_Names = [\"<10\", \"10-15\", \"16-20\", \"21-25\", \"26-30\", \"31-35\", \"36-40\", \"41+\"]\n",
    "\n",
    "purchase_data[\"Age Group\"] = pd.cut(purchase_data[\"Age\"],Age_Bins, Labels=Group_Names)\n",
    "purchase_data\n",
    "\n",
    "Age_Grouped = purchase_data.groupby(\"Age Grouped\")\n",
    "\n",
    "Total_Count_Age = Age_Grouped[\"SN\"].nunique()\n",
    "\n",
    "Percentage_By_Age = Total_Count_Age/Total_Players * 100\n",
    "\n",
    "Age_Demographics = pd.DataFrame({\"Percentage of Players\": Percentage_By_Age, \"Total Count\": Total_Count_Age})\n",
    "\n",
    "Age_Demographics.index.name = None\n",
    "\n",
    "Age_Demographics.style.format({\"Percentage Of Players\":\"{:,.2f}\"})"
   ]
  },
  {
   "cell_type": "markdown",
   "metadata": {},
   "source": [
    "## Purchasing Analysis (Age)"
   ]
  },
  {
   "cell_type": "markdown",
   "metadata": {},
   "source": [
    "* Bin the purchase_data data frame by age\n",
    "\n",
    "\n",
    "* Run basic calculations to obtain purchase count, avg. purchase price, avg. purchase total per person etc. in the table below\n",
    "\n",
    "\n",
    "* Create a summary data frame to hold the results\n",
    "\n",
    "\n",
    "* Optional: give the displayed data cleaner formatting\n",
    "\n",
    "\n",
    "* Display the summary data frame"
   ]
  },
  {
   "cell_type": "code",
   "execution_count": 9,
   "metadata": {},
   "outputs": [
    {
     "ename": "NameError",
     "evalue": "name 'Age_Grouped' is not defined",
     "output_type": "error",
     "traceback": [
      "\u001b[1;31m---------------------------------------------------------------------------\u001b[0m",
      "\u001b[1;31mNameError\u001b[0m                                 Traceback (most recent call last)",
      "\u001b[1;32m<ipython-input-9-1e5d5d87ce98>\u001b[0m in \u001b[0;36m<module>\u001b[1;34m\u001b[0m\n\u001b[1;32m----> 1\u001b[1;33m \u001b[0mPurchase_Count_Age\u001b[0m \u001b[1;33m=\u001b[0m \u001b[0mAge_Grouped\u001b[0m\u001b[1;33m[\u001b[0m\u001b[1;34m\"Purchase ID\"\u001b[0m\u001b[1;33m]\u001b[0m\u001b[1;33m.\u001b[0m\u001b[0mcount\u001b[0m\u001b[1;33m(\u001b[0m\u001b[1;33m)\u001b[0m\u001b[1;33m\u001b[0m\u001b[1;33m\u001b[0m\u001b[0m\n\u001b[0m\u001b[0;32m      2\u001b[0m \u001b[1;33m\u001b[0m\u001b[0m\n\u001b[0;32m      3\u001b[0m \u001b[0mAvg_Purchase_Price_Age\u001b[0m \u001b[1;33m=\u001b[0m \u001b[0mAge_Grouped\u001b[0m\u001b[1;33m[\u001b[0m\u001b[1;34m\"Price\"\u001b[0m\u001b[1;33m]\u001b[0m\u001b[1;33m.\u001b[0m\u001b[0mmean\u001b[0m\u001b[1;33m(\u001b[0m\u001b[1;33m)\u001b[0m\u001b[1;33m\u001b[0m\u001b[1;33m\u001b[0m\u001b[0m\n\u001b[0;32m      4\u001b[0m \u001b[1;33m\u001b[0m\u001b[0m\n\u001b[0;32m      5\u001b[0m \u001b[0mTotal_Purchase_Value\u001b[0m \u001b[1;33m=\u001b[0m \u001b[0mAge_Grouped\u001b[0m\u001b[1;33m[\u001b[0m\u001b[1;34m\"Price\"\u001b[0m\u001b[1;33m]\u001b[0m\u001b[1;33m.\u001b[0m\u001b[0msum\u001b[0m\u001b[1;33m(\u001b[0m\u001b[1;33m)\u001b[0m\u001b[1;33m\u001b[0m\u001b[1;33m\u001b[0m\u001b[0m\n",
      "\u001b[1;31mNameError\u001b[0m: name 'Age_Grouped' is not defined"
     ]
    }
   ],
   "source": [
    "Purchase_Count_Age = Age_Grouped[\"Purchase ID\"].count()\n",
    "\n",
    "Avg_Purchase_Price_Age = Age_Grouped[\"Price\"].mean()\n",
    "\n",
    "Total_Purchase_Value = Age_Grouped[\"Price\"].sum()\n",
    "\n",
    "Avg_Purchase_Per_Person_Age = Total_Purchase_Value/Total_Count_Age\n",
    "\n",
    "Age_Demographics = pd.DataFrame({\"Purchase Count\": Purchase_Count_Age,\n",
    "                                 \"Average Purchase Price\": Avg_Purchase_Price_Age,\n",
    "                                 \"Total Purchase Value\":Total_Purchase_Value,\n",
    "                                 \"Average Purchase Total Per Person\": Avg_Purchase_Per_Person_Age})\n",
    "Age_Demographics.index.name = None\n",
    "\n",
    "Age_Demographics.style.format({\"Average Purchase Price\":\"${:,.4f}\",\n",
    "                               \"Total Purchase Value\":\"${:,.4f}\",\n",
    "                               \"Average Purchase Total Per Person\":\"${:,.4f}\"})\n"
   ]
  },
  {
   "cell_type": "markdown",
   "metadata": {},
   "source": [
    "## Top Spenders"
   ]
  },
  {
   "cell_type": "markdown",
   "metadata": {},
   "source": [
    "* Run basic calculations to obtain the results in the table below\n",
    "\n",
    "\n",
    "* Create a summary data frame to hold the results\n",
    "\n",
    "\n",
    "* Sort the total purchase value column in descending order\n",
    "\n",
    "\n",
    "* Optional: give the displayed data cleaner formatting\n",
    "\n",
    "\n",
    "* Display a preview of the summary data frame\n",
    "\n"
   ]
  },
  {
   "cell_type": "code",
   "execution_count": 10,
   "metadata": {},
   "outputs": [
    {
     "data": {
      "text/html": [
       "<style  type=\"text/css\" >\n",
       "</style>  \n",
       "<table id=\"T_c0d690c6_4aaf_11e9_a73a_f43909e1f9bb\" > \n",
       "<thead>    <tr> \n",
       "        <th class=\"blank level0\" ></th> \n",
       "        <th class=\"col_heading level0 col0\" >Purchase Count</th> \n",
       "        <th class=\"col_heading level0 col1\" >Average Purchase Price</th> \n",
       "        <th class=\"col_heading level0 col2\" >Total Purchase Value</th> \n",
       "    </tr>    <tr> \n",
       "        <th class=\"index_name level0\" >SN</th> \n",
       "        <th class=\"blank\" ></th> \n",
       "        <th class=\"blank\" ></th> \n",
       "        <th class=\"blank\" ></th> \n",
       "    </tr></thead> \n",
       "<tbody>    <tr> \n",
       "        <th id=\"T_c0d690c6_4aaf_11e9_a73a_f43909e1f9bblevel0_row0\" class=\"row_heading level0 row0\" >Lisosia93</th> \n",
       "        <td id=\"T_c0d690c6_4aaf_11e9_a73a_f43909e1f9bbrow0_col0\" class=\"data row0 col0\" >5</td> \n",
       "        <td id=\"T_c0d690c6_4aaf_11e9_a73a_f43909e1f9bbrow0_col1\" class=\"data row0 col1\" >$3.7920</td> \n",
       "        <td id=\"T_c0d690c6_4aaf_11e9_a73a_f43909e1f9bbrow0_col2\" class=\"data row0 col2\" >$18.9600</td> \n",
       "    </tr>    <tr> \n",
       "        <th id=\"T_c0d690c6_4aaf_11e9_a73a_f43909e1f9bblevel0_row1\" class=\"row_heading level0 row1\" >Idastidru52</th> \n",
       "        <td id=\"T_c0d690c6_4aaf_11e9_a73a_f43909e1f9bbrow1_col0\" class=\"data row1 col0\" >4</td> \n",
       "        <td id=\"T_c0d690c6_4aaf_11e9_a73a_f43909e1f9bbrow1_col1\" class=\"data row1 col1\" >$3.8625</td> \n",
       "        <td id=\"T_c0d690c6_4aaf_11e9_a73a_f43909e1f9bbrow1_col2\" class=\"data row1 col2\" >$15.4500</td> \n",
       "    </tr>    <tr> \n",
       "        <th id=\"T_c0d690c6_4aaf_11e9_a73a_f43909e1f9bblevel0_row2\" class=\"row_heading level0 row2\" >Chamjask73</th> \n",
       "        <td id=\"T_c0d690c6_4aaf_11e9_a73a_f43909e1f9bbrow2_col0\" class=\"data row2 col0\" >3</td> \n",
       "        <td id=\"T_c0d690c6_4aaf_11e9_a73a_f43909e1f9bbrow2_col1\" class=\"data row2 col1\" >$4.6100</td> \n",
       "        <td id=\"T_c0d690c6_4aaf_11e9_a73a_f43909e1f9bbrow2_col2\" class=\"data row2 col2\" >$13.8300</td> \n",
       "    </tr>    <tr> \n",
       "        <th id=\"T_c0d690c6_4aaf_11e9_a73a_f43909e1f9bblevel0_row3\" class=\"row_heading level0 row3\" >Iral74</th> \n",
       "        <td id=\"T_c0d690c6_4aaf_11e9_a73a_f43909e1f9bbrow3_col0\" class=\"data row3 col0\" >4</td> \n",
       "        <td id=\"T_c0d690c6_4aaf_11e9_a73a_f43909e1f9bbrow3_col1\" class=\"data row3 col1\" >$3.4050</td> \n",
       "        <td id=\"T_c0d690c6_4aaf_11e9_a73a_f43909e1f9bbrow3_col2\" class=\"data row3 col2\" >$13.6200</td> \n",
       "    </tr>    <tr> \n",
       "        <th id=\"T_c0d690c6_4aaf_11e9_a73a_f43909e1f9bblevel0_row4\" class=\"row_heading level0 row4\" >Iskadarya95</th> \n",
       "        <td id=\"T_c0d690c6_4aaf_11e9_a73a_f43909e1f9bbrow4_col0\" class=\"data row4 col0\" >3</td> \n",
       "        <td id=\"T_c0d690c6_4aaf_11e9_a73a_f43909e1f9bbrow4_col1\" class=\"data row4 col1\" >$4.3667</td> \n",
       "        <td id=\"T_c0d690c6_4aaf_11e9_a73a_f43909e1f9bbrow4_col2\" class=\"data row4 col2\" >$13.1000</td> \n",
       "    </tr></tbody> \n",
       "</table> "
      ],
      "text/plain": [
       "<pandas.io.formats.style.Styler at 0x1aa5f685dd8>"
      ]
     },
     "execution_count": 10,
     "metadata": {},
     "output_type": "execute_result"
    }
   ],
   "source": [
    "Spender_Stats = purchase_data.groupby(\"SN\")\n",
    "\n",
    "Purchase_Count_Spender = Spender_Stats[\"Purchase ID\"].count()\n",
    "\n",
    "Avg_Purchase_Price_Spender = Spender_Stats[\"Price\"].mean()\n",
    "\n",
    "Purchase_Total_Spender = Spender_Stats[\"Price\"].sum()\n",
    "\n",
    "Top_Spenders = pd.DataFrame({\"Purchase Count\": Purchase_Count_Spender,\n",
    "                             \"Average Purchase Price\": Avg_Purchase_Price_Spender,\n",
    "                             \"Total Purchase Value\":Purchase_Total_Spender})\n",
    "\n",
    "Formatted_Spenders = Top_Spenders.sort_values([\"Total Purchase Value\"], ascending=False).head()\n",
    "\n",
    "Formatted_Spenders.style.format({\"Average Purchase Total\":\"${:,.4f}\",\n",
    "                                 \"Average Purchase Price\":\"${:,.4f}\", \n",
    "                                 \"Total Purchase Value\":\"${:,.4f}\"})"
   ]
  },
  {
   "cell_type": "markdown",
   "metadata": {},
   "source": [
    "## Most Popular Items"
   ]
  },
  {
   "cell_type": "markdown",
   "metadata": {},
   "source": [
    "* Retrieve the Item ID, Item Name, and Item Price columns\n",
    "\n",
    "\n",
    "* Group by Item ID and Item Name. Perform calculations to obtain purchase count, item price, and total purchase value\n",
    "\n",
    "\n",
    "* Create a summary data frame to hold the results\n",
    "\n",
    "\n",
    "* Sort the purchase count column in descending order\n",
    "\n",
    "\n",
    "* Optional: give the displayed data cleaner formatting\n",
    "\n",
    "\n",
    "* Display a preview of the summary data frame\n",
    "\n"
   ]
  },
  {
   "cell_type": "code",
   "execution_count": 11,
   "metadata": {},
   "outputs": [
    {
     "data": {
      "text/html": [
       "<style  type=\"text/css\" >\n",
       "</style>  \n",
       "<table id=\"T_c36e521a_4aaf_11e9_947b_f43909e1f9bb\" > \n",
       "<thead>    <tr> \n",
       "        <th class=\"blank\" ></th> \n",
       "        <th class=\"blank level0\" ></th> \n",
       "        <th class=\"col_heading level0 col0\" >Purchase Count</th> \n",
       "        <th class=\"col_heading level0 col1\" >Item Price</th> \n",
       "        <th class=\"col_heading level0 col2\" >Total Purchase Value</th> \n",
       "    </tr>    <tr> \n",
       "        <th class=\"index_name level0\" >Item ID</th> \n",
       "        <th class=\"index_name level1\" >Item Name</th> \n",
       "        <th class=\"blank\" ></th> \n",
       "        <th class=\"blank\" ></th> \n",
       "        <th class=\"blank\" ></th> \n",
       "    </tr></thead> \n",
       "<tbody>    <tr> \n",
       "        <th id=\"T_c36e521a_4aaf_11e9_947b_f43909e1f9bblevel0_row0\" class=\"row_heading level0 row0\" >178</th> \n",
       "        <th id=\"T_c36e521a_4aaf_11e9_947b_f43909e1f9bblevel1_row0\" class=\"row_heading level1 row0\" >Oathbreaker, Last Hope of the Breaking Storm</th> \n",
       "        <td id=\"T_c36e521a_4aaf_11e9_947b_f43909e1f9bbrow0_col0\" class=\"data row0 col0\" >12</td> \n",
       "        <td id=\"T_c36e521a_4aaf_11e9_947b_f43909e1f9bbrow0_col1\" class=\"data row0 col1\" >$4.2300</td> \n",
       "        <td id=\"T_c36e521a_4aaf_11e9_947b_f43909e1f9bbrow0_col2\" class=\"data row0 col2\" >$50.7600</td> \n",
       "    </tr>    <tr> \n",
       "        <th id=\"T_c36e521a_4aaf_11e9_947b_f43909e1f9bblevel0_row1\" class=\"row_heading level0 row1\" >145</th> \n",
       "        <th id=\"T_c36e521a_4aaf_11e9_947b_f43909e1f9bblevel1_row1\" class=\"row_heading level1 row1\" >Fiery Glass Crusader</th> \n",
       "        <td id=\"T_c36e521a_4aaf_11e9_947b_f43909e1f9bbrow1_col0\" class=\"data row1 col0\" >9</td> \n",
       "        <td id=\"T_c36e521a_4aaf_11e9_947b_f43909e1f9bbrow1_col1\" class=\"data row1 col1\" >$4.5800</td> \n",
       "        <td id=\"T_c36e521a_4aaf_11e9_947b_f43909e1f9bbrow1_col2\" class=\"data row1 col2\" >$41.2200</td> \n",
       "    </tr>    <tr> \n",
       "        <th id=\"T_c36e521a_4aaf_11e9_947b_f43909e1f9bblevel0_row2\" class=\"row_heading level0 row2\" >108</th> \n",
       "        <th id=\"T_c36e521a_4aaf_11e9_947b_f43909e1f9bblevel1_row2\" class=\"row_heading level1 row2\" >Extraction, Quickblade Of Trembling Hands</th> \n",
       "        <td id=\"T_c36e521a_4aaf_11e9_947b_f43909e1f9bbrow2_col0\" class=\"data row2 col0\" >9</td> \n",
       "        <td id=\"T_c36e521a_4aaf_11e9_947b_f43909e1f9bbrow2_col1\" class=\"data row2 col1\" >$3.5300</td> \n",
       "        <td id=\"T_c36e521a_4aaf_11e9_947b_f43909e1f9bbrow2_col2\" class=\"data row2 col2\" >$31.7700</td> \n",
       "    </tr>    <tr> \n",
       "        <th id=\"T_c36e521a_4aaf_11e9_947b_f43909e1f9bblevel0_row3\" class=\"row_heading level0 row3\" >82</th> \n",
       "        <th id=\"T_c36e521a_4aaf_11e9_947b_f43909e1f9bblevel1_row3\" class=\"row_heading level1 row3\" >Nirvana</th> \n",
       "        <td id=\"T_c36e521a_4aaf_11e9_947b_f43909e1f9bbrow3_col0\" class=\"data row3 col0\" >9</td> \n",
       "        <td id=\"T_c36e521a_4aaf_11e9_947b_f43909e1f9bbrow3_col1\" class=\"data row3 col1\" >$4.9000</td> \n",
       "        <td id=\"T_c36e521a_4aaf_11e9_947b_f43909e1f9bbrow3_col2\" class=\"data row3 col2\" >$44.1000</td> \n",
       "    </tr>    <tr> \n",
       "        <th id=\"T_c36e521a_4aaf_11e9_947b_f43909e1f9bblevel0_row4\" class=\"row_heading level0 row4\" >19</th> \n",
       "        <th id=\"T_c36e521a_4aaf_11e9_947b_f43909e1f9bblevel1_row4\" class=\"row_heading level1 row4\" >Pursuit, Cudgel of Necromancy</th> \n",
       "        <td id=\"T_c36e521a_4aaf_11e9_947b_f43909e1f9bbrow4_col0\" class=\"data row4 col0\" >8</td> \n",
       "        <td id=\"T_c36e521a_4aaf_11e9_947b_f43909e1f9bbrow4_col1\" class=\"data row4 col1\" >$1.0200</td> \n",
       "        <td id=\"T_c36e521a_4aaf_11e9_947b_f43909e1f9bbrow4_col2\" class=\"data row4 col2\" >$8.1600</td> \n",
       "    </tr></tbody> \n",
       "</table> "
      ],
      "text/plain": [
       "<pandas.io.formats.style.Styler at 0x1aa5eda1588>"
      ]
     },
     "execution_count": 11,
     "metadata": {},
     "output_type": "execute_result"
    }
   ],
   "source": [
    " Items = purchase_data[[\"Item ID\", \"Item Name\", \"Price\"]]\n",
    " \n",
    "Item_Stats = Items.groupby([\"Item ID\",\"Item Name\"])\n",
    " \n",
    "Purchase_Count_Item = Item_Stats[\"Price\"].count()\n",
    "\n",
    "Purchase_Value = (Item_Stats[\"Price\"].sum()) \n",
    "\n",
    "Item_Price = Purchase_Value/Purchase_Count_Item\n",
    "\n",
    "Most_Popular_Items = pd.DataFrame({\"Purchase Count\": Purchase_Count_Item, \n",
    "                                   \"Item Price\": Item_Price,\n",
    "                                   \"Total Purchase Value\":Purchase_Value})\n",
    "Popular_Formatted = Most_Popular_Items.sort_values([\"Purchase Count\"], ascending=False).head()\n",
    "\n",
    "Popular_Formatted.style.format({\"Item Price\":\"${:,.4f}\",\n",
    "                                \"Total Purchase Value\":\"${:,.4f}\"})"
   ]
  },
  {
   "cell_type": "markdown",
   "metadata": {},
   "source": [
    "## Most Profitable Items"
   ]
  },
  {
   "cell_type": "markdown",
   "metadata": {},
   "source": [
    "* Sort the above table by total purchase value in descending order\n",
    "\n",
    "\n",
    "* Optional: give the displayed data cleaner formatting\n",
    "\n",
    "\n",
    "* Display a preview of the data frame\n",
    "\n"
   ]
  },
  {
   "cell_type": "code",
   "execution_count": 12,
   "metadata": {
    "scrolled": true
   },
   "outputs": [
    {
     "data": {
      "text/html": [
       "<style  type=\"text/css\" >\n",
       "</style>  \n",
       "<table id=\"T_cba0b6f6_4aaf_11e9_91e9_f43909e1f9bb\" > \n",
       "<thead>    <tr> \n",
       "        <th class=\"blank\" ></th> \n",
       "        <th class=\"blank level0\" ></th> \n",
       "        <th class=\"col_heading level0 col0\" >Purchase Count</th> \n",
       "        <th class=\"col_heading level0 col1\" >Item Price</th> \n",
       "        <th class=\"col_heading level0 col2\" >Total Purchase Value</th> \n",
       "    </tr>    <tr> \n",
       "        <th class=\"index_name level0\" >Item ID</th> \n",
       "        <th class=\"index_name level1\" >Item Name</th> \n",
       "        <th class=\"blank\" ></th> \n",
       "        <th class=\"blank\" ></th> \n",
       "        <th class=\"blank\" ></th> \n",
       "    </tr></thead> \n",
       "<tbody>    <tr> \n",
       "        <th id=\"T_cba0b6f6_4aaf_11e9_91e9_f43909e1f9bblevel0_row0\" class=\"row_heading level0 row0\" >178</th> \n",
       "        <th id=\"T_cba0b6f6_4aaf_11e9_91e9_f43909e1f9bblevel1_row0\" class=\"row_heading level1 row0\" >Oathbreaker, Last Hope of the Breaking Storm</th> \n",
       "        <td id=\"T_cba0b6f6_4aaf_11e9_91e9_f43909e1f9bbrow0_col0\" class=\"data row0 col0\" >12</td> \n",
       "        <td id=\"T_cba0b6f6_4aaf_11e9_91e9_f43909e1f9bbrow0_col1\" class=\"data row0 col1\" >$4.2300</td> \n",
       "        <td id=\"T_cba0b6f6_4aaf_11e9_91e9_f43909e1f9bbrow0_col2\" class=\"data row0 col2\" >$50.7600</td> \n",
       "    </tr>    <tr> \n",
       "        <th id=\"T_cba0b6f6_4aaf_11e9_91e9_f43909e1f9bblevel0_row1\" class=\"row_heading level0 row1\" >82</th> \n",
       "        <th id=\"T_cba0b6f6_4aaf_11e9_91e9_f43909e1f9bblevel1_row1\" class=\"row_heading level1 row1\" >Nirvana</th> \n",
       "        <td id=\"T_cba0b6f6_4aaf_11e9_91e9_f43909e1f9bbrow1_col0\" class=\"data row1 col0\" >9</td> \n",
       "        <td id=\"T_cba0b6f6_4aaf_11e9_91e9_f43909e1f9bbrow1_col1\" class=\"data row1 col1\" >$4.9000</td> \n",
       "        <td id=\"T_cba0b6f6_4aaf_11e9_91e9_f43909e1f9bbrow1_col2\" class=\"data row1 col2\" >$44.1000</td> \n",
       "    </tr>    <tr> \n",
       "        <th id=\"T_cba0b6f6_4aaf_11e9_91e9_f43909e1f9bblevel0_row2\" class=\"row_heading level0 row2\" >145</th> \n",
       "        <th id=\"T_cba0b6f6_4aaf_11e9_91e9_f43909e1f9bblevel1_row2\" class=\"row_heading level1 row2\" >Fiery Glass Crusader</th> \n",
       "        <td id=\"T_cba0b6f6_4aaf_11e9_91e9_f43909e1f9bbrow2_col0\" class=\"data row2 col0\" >9</td> \n",
       "        <td id=\"T_cba0b6f6_4aaf_11e9_91e9_f43909e1f9bbrow2_col1\" class=\"data row2 col1\" >$4.5800</td> \n",
       "        <td id=\"T_cba0b6f6_4aaf_11e9_91e9_f43909e1f9bbrow2_col2\" class=\"data row2 col2\" >$41.2200</td> \n",
       "    </tr>    <tr> \n",
       "        <th id=\"T_cba0b6f6_4aaf_11e9_91e9_f43909e1f9bblevel0_row3\" class=\"row_heading level0 row3\" >92</th> \n",
       "        <th id=\"T_cba0b6f6_4aaf_11e9_91e9_f43909e1f9bblevel1_row3\" class=\"row_heading level1 row3\" >Final Critic</th> \n",
       "        <td id=\"T_cba0b6f6_4aaf_11e9_91e9_f43909e1f9bbrow3_col0\" class=\"data row3 col0\" >8</td> \n",
       "        <td id=\"T_cba0b6f6_4aaf_11e9_91e9_f43909e1f9bbrow3_col1\" class=\"data row3 col1\" >$4.8800</td> \n",
       "        <td id=\"T_cba0b6f6_4aaf_11e9_91e9_f43909e1f9bbrow3_col2\" class=\"data row3 col2\" >$39.0400</td> \n",
       "    </tr>    <tr> \n",
       "        <th id=\"T_cba0b6f6_4aaf_11e9_91e9_f43909e1f9bblevel0_row4\" class=\"row_heading level0 row4\" >103</th> \n",
       "        <th id=\"T_cba0b6f6_4aaf_11e9_91e9_f43909e1f9bblevel1_row4\" class=\"row_heading level1 row4\" >Singed Scalpel</th> \n",
       "        <td id=\"T_cba0b6f6_4aaf_11e9_91e9_f43909e1f9bbrow4_col0\" class=\"data row4 col0\" >8</td> \n",
       "        <td id=\"T_cba0b6f6_4aaf_11e9_91e9_f43909e1f9bbrow4_col1\" class=\"data row4 col1\" >$4.3500</td> \n",
       "        <td id=\"T_cba0b6f6_4aaf_11e9_91e9_f43909e1f9bbrow4_col2\" class=\"data row4 col2\" >$34.8000</td> \n",
       "    </tr></tbody> \n",
       "</table> "
      ],
      "text/plain": [
       "<pandas.io.formats.style.Styler at 0x1aa5edde550>"
      ]
     },
     "execution_count": 12,
     "metadata": {},
     "output_type": "execute_result"
    }
   ],
   "source": [
    "Popular_Formatted = Most_Popular_Items.sort_values([\"Total Purchase Value\"],\n",
    "                                                   ascending=False).head()\n",
    "Popular_Formatted.style.format({\"Item Price\":\"${:,.4f}\",\n",
    "                                \"Total Purchase Value\":\"${:,.4f}\"})"
   ]
  },
  {
   "cell_type": "code",
   "execution_count": null,
   "metadata": {},
   "outputs": [],
   "source": []
  }
 ],
 "metadata": {
  "anaconda-cloud": {},
  "kernel_info": {
   "name": "python3"
  },
  "kernelspec": {
   "display_name": "Python 3",
   "language": "python",
   "name": "python3"
  },
  "language_info": {
   "codemirror_mode": {
    "name": "ipython",
    "version": 3
   },
   "file_extension": ".py",
   "mimetype": "text/x-python",
   "name": "python",
   "nbconvert_exporter": "python",
   "pygments_lexer": "ipython3",
   "version": "3.6.7"
  },
  "nteract": {
   "version": "0.2.0"
  }
 },
 "nbformat": 4,
 "nbformat_minor": 2
}
